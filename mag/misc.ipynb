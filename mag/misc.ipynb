{
 "cells": [
  {
   "cell_type": "code",
   "execution_count": 1,
   "id": "35bcbcda",
   "metadata": {},
   "outputs": [],
   "source": []
  },
  {
   "cell_type": "code",
   "execution_count": 12,
   "id": "a5837e70",
   "metadata": {},
   "outputs": [
    {
     "data": {
      "text/plain": [
       "True"
      ]
     },
     "execution_count": 12,
     "metadata": {},
     "output_type": "execute_result"
    }
   ],
   "source": []
  },
  {
   "cell_type": "code",
   "execution_count": 23,
   "id": "2ffd9219",
   "metadata": {},
   "outputs": [
    {
     "name": "stdout",
     "output_type": "stream",
     "text": [
      "OSC_5GHz_wo_ind.mag\n",
      "> Note: OSC_5GHz_wo_ind.mag already is sky130B\n",
      "OSC_5GHz.mag\n",
      "> Note: OSC_5GHz.mag already is sky130B\n",
      "OSC_24GHz.mag\n",
      "> Note: OSC_24GHz.mag already is sky130B\n",
      "OSC_5GHz_1.mag\n",
      "> Note: OSC_5GHz_1.mag already is sky130B\n"
     ]
    }
   ],
   "source": [
    "## Rebasing all sky130A to sky130B\n",
    "\n",
    "import os\n",
    "fdir='./OSC'\n",
    "\n",
    "flist0 = os.listdir(fdir+'/')\n",
    "flist1 = []\n",
    "for f in flist0:\n",
    "    if os.path.splitext(f)[-1] == '.mag':\n",
    "        flist1.append(f)\n",
    "for f in flist1:\n",
    "    print(f)\n",
    "    fp = open(fdir+'/'+f,'r')\n",
    "    buf = fp.readlines()\n",
    "    fp.close()\n",
    "    os.remove(fdir+'/'+f)\n",
    "    fp = open(fdir+'/'+f,'w+')\n",
    "    obuf = []\n",
    "    for line in buf:\n",
    "        if line.startswith('tech'):\n",
    "            parts = line.split()\n",
    "            if len(parts)>2:\n",
    "                print('> Warning: malformed tech line: '+ line)\n",
    "            else:\n",
    "                if(parts[1]!='sky130B'):\n",
    "                    obuf.append('tech sky130B\\n')\n",
    "                else:\n",
    "                    print('> Note: '+f+' already is sky130B')\n",
    "                    obuf.append(line)\n",
    "        else:\n",
    "            obuf.append(line)\n",
    "    fp.writelines(obuf)\n",
    "    fp.close()\n",
    "    \n",
    "            "
   ]
  }
 ],
 "metadata": {
  "kernelspec": {
   "display_name": "Python 3 (ipykernel)",
   "language": "python",
   "name": "python3"
  },
  "language_info": {
   "codemirror_mode": {
    "name": "ipython",
    "version": 3
   },
   "file_extension": ".py",
   "mimetype": "text/x-python",
   "name": "python",
   "nbconvert_exporter": "python",
   "pygments_lexer": "ipython3",
   "version": "3.8.10"
  }
 },
 "nbformat": 4,
 "nbformat_minor": 5
}
