{
 "cells": [
  {
   "cell_type": "code",
   "execution_count": 56,
   "id": "f373e94f",
   "metadata": {},
   "outputs": [],
   "source": [
    "import numpy as np\n",
    "from matplotlib import pyplot as plt\n",
    "import os"
   ]
  },
  {
   "cell_type": "code",
   "execution_count": 60,
   "id": "6b95e5b3",
   "metadata": {},
   "outputs": [
    {
     "data": {
      "text/plain": [
       "'data_L0.3_W5'"
      ]
     },
     "execution_count": 60,
     "metadata": {},
     "output_type": "execute_result"
    }
   ],
   "source": [
    "'data_L0.3_W5.raw'[:-4]"
   ]
  },
  {
   "cell_type": "code",
   "execution_count": 75,
   "id": "570e85dd",
   "metadata": {
    "scrolled": false
   },
   "outputs": [
    {
     "name": "stdout",
     "output_type": "stream",
     "text": [
      "# 100 files seen\n"
     ]
    },
    {
     "data": {
      "image/png": "[encoded data removed]",
      "text/plain": [
       "<Figure size 432x288 with 1 Axes>"
      ]
     },
     "metadata": {
      "needs_background": "light"
     },
     "output_type": "display_data"
    }
   ],
   "source": [
    "fdir = './gmid_test'\n",
    "flist =  []\n",
    "lwlist = []\n",
    "for fname in os.listdir(fdir):\n",
    "    if fname.startswith('data'):\n",
    "        flist.append(fname)\n",
    "        parts = fname[:-4].split('_') # Strip .raw extension\n",
    "        if len(parts) != 3:\n",
    "            print('Warning: malformed file name: ', fname)\n",
    "        L = float(parts[1][1:])\n",
    "        W = float(parts[2][1:])\n",
    "        lwlist.append((L,W))\n",
    "        \n",
    "# This scatter plot is meant for the user to spot unsupported device sizes\n",
    "plt.scatter(*zip(*lwlist));\n",
    "fcount = len(flist) \n",
    "print('#',fcount,'files seen')"
   ]
  },
  {
   "cell_type": "code",
   "execution_count": 87,
   "id": "50654478",
   "metadata": {},
   "outputs": [
    {
     "data": {
      "text/plain": [
       "[(0.3, 5.0),\n",
       " (0.15, 9.0),\n",
       " (1.5, 6.0),\n",
       " (1.5, 9.0),\n",
       " (0.15, 5.0),\n",
       " (1.35, 10.0),\n",
       " (1.05, 9.0),\n",
       " (1.2, 4.0),\n",
       " (0.45, 8.0),\n",
       " (0.6, 6.0),\n",
       " (0.9, 10.0),\n",
       " (0.75, 7.0),\n",
       " (0.15, 4.0),\n",
       " (0.15, 7.0),\n",
       " (1.35, 5.0),\n",
       " (0.75, 5.0),\n",
       " (1.2, 6.0),\n",
       " (1.05, 1.0),\n",
       " (0.45, 5.0),\n",
       " (1.5, 7.0),\n",
       " (0.3, 10.0),\n",
       " (0.45, 7.0),\n",
       " (0.9, 2.0),\n",
       " (0.15, 1.0),\n",
       " (0.3, 3.0),\n",
       " (1.35, 9.0),\n",
       " (1.5, 5.0),\n",
       " (0.15, 6.0),\n",
       " (0.9, 3.0),\n",
       " (0.6, 1.0),\n",
       " (0.6, 9.0),\n",
       " (0.6, 3.0),\n",
       " (1.05, 7.0),\n",
       " (0.9, 6.0),\n",
       " (1.5, 2.0),\n",
       " (0.9, 1.0),\n",
       " (1.35, 4.0),\n",
       " (1.2, 9.0),\n",
       " (1.2, 2.0),\n",
       " (1.35, 2.0),\n",
       " (0.9, 7.0),\n",
       " (1.05, 3.0),\n",
       " (0.15, 2.0),\n",
       " (1.35, 1.0),\n",
       " (0.6, 4.0),\n",
       " (1.05, 6.0),\n",
       " (0.75, 9.0),\n",
       " (1.2, 10.0),\n",
       " (1.35, 6.0),\n",
       " (0.9, 9.0),\n",
       " (0.15, 10.0),\n",
       " (0.9, 8.0),\n",
       " (0.9, 5.0),\n",
       " (1.5, 8.0),\n",
       " (0.6, 5.0),\n",
       " (1.2, 5.0),\n",
       " (1.5, 4.0),\n",
       " (1.5, 3.0),\n",
       " (0.3, 8.0),\n",
       " (0.75, 4.0),\n",
       " (0.3, 1.0),\n",
       " (0.6, 8.0),\n",
       " (0.45, 2.0),\n",
       " (0.3, 2.0),\n",
       " (1.35, 3.0),\n",
       " (0.75, 3.0),\n",
       " (0.45, 1.0),\n",
       " (0.45, 10.0),\n",
       " (0.75, 10.0),\n",
       " (0.6, 10.0),\n",
       " (0.75, 2.0),\n",
       " (1.05, 2.0),\n",
       " (0.15, 3.0),\n",
       " (1.2, 8.0),\n",
       " (0.3, 6.0),\n",
       " (1.2, 3.0),\n",
       " (1.5, 1.0),\n",
       " (0.45, 4.0),\n",
       " (0.3, 4.0),\n",
       " (0.45, 6.0),\n",
       " (1.05, 4.0),\n",
       " (1.5, 10.0),\n",
       " (0.75, 8.0),\n",
       " (0.75, 1.0),\n",
       " (1.2, 7.0),\n",
       " (0.9, 4.0),\n",
       " (1.05, 5.0),\n",
       " (1.05, 10.0),\n",
       " (0.75, 6.0),\n",
       " (0.6, 7.0),\n",
       " (1.2, 1.0),\n",
       " (0.45, 9.0),\n",
       " (1.35, 8.0),\n",
       " (0.3, 9.0),\n",
       " (0.3, 7.0),\n",
       " (1.05, 8.0),\n",
       " (0.6, 2.0),\n",
       " (0.15, 8.0),\n",
       " (1.35, 7.0),\n",
       " (0.45, 3.0)]"
      ]
     },
     "execution_count": 87,
     "metadata": {},
     "output_type": "execute_result"
    }
   ],
   "source": [
    "lwlist"
   ]
  },
  {
   "cell_type": "code",
   "execution_count": 118,
   "id": "7940b70a",
   "metadata": {
    "scrolled": true
   },
   "outputs": [
    {
     "name": "stdout",
     "output_type": "stream",
     "text": [
      "Warning: Invalid Count: 0\n",
      "Warning: Invalid Count: 0\n",
      "Warning: Invalid Count: 0\n",
      "Warning: Invalid Count: 0\n",
      "Warning: Invalid Count: 0\n",
      "Warning: Invalid Count: 0\n",
      "Warning: Invalid Count: 0\n",
      "Warning: Invalid Count: 0\n",
      "Warning: Invalid Count: 0\n",
      "Warning: Invalid Count: 0\n",
      "Warning: Invalid Count: 0\n",
      "Warning: Invalid Count: 0\n",
      "Warning: Invalid Count: 0\n",
      "Warning: Invalid Count: 0\n",
      "Warning: Invalid Count: 0\n",
      "Warning: Invalid Count: 0\n",
      "Warning: Invalid Count: 0\n",
      "Warning: Invalid Count: 0\n",
      "Warning: Invalid Count: 0\n",
      "Warning: Invalid Count: 0\n",
      "Warning: Invalid Count: 0\n",
      "Warning: Invalid Count: 0\n",
      "Warning: Invalid Count: 0\n",
      "Warning: Invalid Count: 0\n",
      "Warning: Invalid Count: 0\n",
      "Warning: Invalid Count: 0\n",
      "Warning: Invalid Count: 0\n",
      "Warning: Invalid Count: 0\n",
      "Warning: Invalid Count: 0\n",
      "Warning: Invalid Count: 0\n",
      "Warning: Invalid Count: 0\n",
      "Warning: Invalid Count: 0\n",
      "Warning: Invalid Count: 0\n",
      "Warning: Invalid Count: 0\n",
      "Warning: Invalid Count: 0\n",
      "Warning: Invalid Count: 0\n",
      "Warning: Invalid Count: 0\n",
      "Warning: Invalid Count: 0\n",
      "Warning: Invalid Count: 0\n",
      "Warning: Invalid Count: 0\n",
      "Warning: Invalid Count: 0\n",
      "Warning: Invalid Count: 0\n",
      "Warning: Invalid Count: 0\n",
      "Warning: Invalid Count: 0\n",
      "Warning: Invalid Count: 0\n",
      "Warning: Invalid Count: 0\n",
      "Warning: Invalid Count: 0\n",
      "Warning: Invalid Count: 0\n",
      "Warning: Invalid Count: 0\n",
      "Warning: Invalid Count: 0\n",
      "Warning: Invalid Count: 0\n",
      "Warning: Invalid Count: 0\n",
      "Warning: Invalid Count: 0\n",
      "Warning: Invalid Count: 0\n",
      "Warning: Invalid Count: 0\n",
      "Warning: Invalid Count: 0\n",
      "Warning: Invalid Count: 0\n",
      "Warning: Invalid Count: 0\n",
      "Warning: Invalid Count: 0\n",
      "Warning: Invalid Count: 0\n",
      "Warning: Invalid Count: 0\n",
      "Warning: Invalid Count: 0\n",
      "Warning: Invalid Count: 0\n",
      "Warning: Invalid Count: 0\n",
      "Warning: Invalid Count: 0\n",
      "Warning: Invalid Count: 0\n",
      "Warning: Invalid Count: 0\n",
      "Warning: Invalid Count: 0\n",
      "Warning: Invalid Count: 0\n",
      "Warning: Invalid Count: 0\n",
      "Warning: Invalid Count: 0\n",
      "Warning: Invalid Count: 0\n",
      "Warning: Invalid Count: 0\n",
      "Warning: Invalid Count: 0\n",
      "Warning: Invalid Count: 0\n",
      "Warning: Invalid Count: 0\n",
      "Warning: Invalid Count: 0\n",
      "Warning: Invalid Count: 0\n",
      "Warning: Invalid Count: 0\n",
      "Warning: Invalid Count: 0\n",
      "Warning: Invalid Count: 0\n",
      "Warning: Invalid Count: 0\n",
      "Warning: Invalid Count: 0\n",
      "Warning: Invalid Count: 0\n",
      "Warning: Invalid Count: 0\n",
      "Warning: Invalid Count: 0\n",
      "Warning: Invalid Count: 0\n",
      "Warning: Invalid Count: 0\n",
      "Warning: Invalid Count: 0\n",
      "Warning: Invalid Count: 0\n",
      "Warning: Invalid Count: 0\n",
      "Warning: Invalid Count: 0\n",
      "Warning: Invalid Count: 0\n",
      "Warning: Invalid Count: 0\n",
      "Warning: Invalid Count: 0\n",
      "Warning: Invalid Count: 0\n",
      "Warning: Invalid Count: 0\n",
      "Warning: Invalid Count: 0\n",
      "Warning: Invalid Count: 0\n",
      "Warning: Invalid Count: 0\n"
     ]
    }
   ],
   "source": [
    "vgs_list_all = []\n",
    "cgb_list_all = []\n",
    "cgd_list_all = []\n",
    "cgs_list_all = []\n",
    "gds_list_all = []\n",
    "gm_list_all  = []\n",
    "id_list_all  = []\n",
    "vth_list_all = []\n",
    "\n",
    "for fname in flist:\n",
    "    # Read File\n",
    "    fname = './data_nfet_01v8_aM01_W1p00L0p15NF1.raw'\n",
    "    f = open(fname,'r')\n",
    "    lines = f.readlines()\n",
    "    f.close()\n",
    "    \n",
    "    # Count Lines\n",
    "    count = 0\n",
    "    for line in lines:\n",
    "        count = count + 1\n",
    "        if line.startswith('Values'):\n",
    "            break\n",
    "    # print('Record starting at: ', count)\n",
    "    lines_1 = lines[count:]\n",
    "    \n",
    "    # Populate List\n",
    "    vgs_list = []\n",
    "    cgb_list = []\n",
    "    cgd_list = []\n",
    "    cgs_list = []\n",
    "    gds_list = []\n",
    "    gm_list  = []\n",
    "    id_list  = []\n",
    "    vth_list = []\n",
    "    count = 0\n",
    "    for line in lines_1:\n",
    "        line = line[:-1].split('\\t')\n",
    "        if(len(line)>1):\n",
    "            if(line[0]!=''):\n",
    "                count = 0\n",
    "                # print(line[0])\n",
    "                value = float(line[1])\n",
    "                \n",
    "            elif line[1]!='' :\n",
    "                count = count + 1\n",
    "                value = float(line[1])\n",
    "                \n",
    "            if count == 0:\n",
    "                vgs_list.append(value)\n",
    "            elif count == 1:\n",
    "                cgb_list.append(value)\n",
    "            elif count == 2:\n",
    "                cgd_list.append(value)\n",
    "            elif count == 3:\n",
    "                cgs_list.append(value)\n",
    "            elif count == 4:\n",
    "                gds_list.append(value)\n",
    "            elif count == 5:\n",
    "                gm_list.append(value)\n",
    "            elif count == 6:\n",
    "                id_list.append(value)\n",
    "            elif count == 7:\n",
    "                vth_list.append(value)\n",
    "            else:\n",
    "                print('WTF')\n",
    "                \n",
    "    # Populate top-level list\n",
    "    vgs_list_all.append(vgs_list)\n",
    "    cgb_list_all.append(cgb_list)\n",
    "    cgd_list_all.append(cgd_list)\n",
    "    cgs_list_all.append(cgs_list)\n",
    "    gds_list_all.append(gds_list)\n",
    "    gm_list_all. append(gm_list)\n",
    "    id_list_all. append(id_list)\n",
    "    vth_list_all.append(vth_list)\n",
    "# Convert to np.array\n",
    "\n",
    "vgs_list_all = np.array(vgs_list_all)\n",
    "cgb_list_all = np.array(cgb_list_all)\n",
    "cgd_list_all = np.array(cgd_list_all)\n",
    "cgs_list_all = np.array(cgs_list_all)\n",
    "gds_list_all = np.array(gds_list_all)\n",
    "gm_list_all  = np.array(gm_list_all)\n",
    "id_list_all  = np.array(id_list_all)\n",
    "vth_list_all = np.array(vth_list_all)"
   ]
  },
  {
   "cell_type": "code",
   "execution_count": 97,
   "id": "84e48a69",
   "metadata": {
    "scrolled": true
   },
   "outputs": [
    {
     "data": {
      "text/plain": [
       "array([[0.  , 0.01, 0.02, ..., 1.78, 1.79, 1.8 ],\n",
       "       [0.  , 0.01, 0.02, ..., 1.78, 1.79, 1.8 ],\n",
       "       [0.  , 0.01, 0.02, ..., 1.78, 1.79, 1.8 ],\n",
       "       ...,\n",
       "       [0.  , 0.01, 0.02, ..., 1.78, 1.79, 1.8 ],\n",
       "       [0.  , 0.01, 0.02, ..., 1.78, 1.79, 1.8 ],\n",
       "       [0.  , 0.01, 0.02, ..., 1.78, 1.79, 1.8 ]])"
      ]
     },
     "execution_count": 97,
     "metadata": {},
     "output_type": "execute_result"
    }
   ],
   "source": []
  },
  {
   "cell_type": "code",
   "execution_count": 116,
   "id": "ddcf4dcd",
   "metadata": {},
   "outputs": [
    {
     "name": "stdout",
     "output_type": "stream",
     "text": [
      "1.36597750483344e-13 1.36597750483344e-13\n"
     ]
    }
   ],
   "source": [
    "print(id_list_all[0,1],id_list_all[10,1])"
   ]
  },
  {
   "cell_type": "code",
   "execution_count": 81,
   "id": "c32c5fbe",
   "metadata": {},
   "outputs": [
    {
     "data": {
      "text/plain": [
       "(100, 181)"
      ]
     },
     "execution_count": 81,
     "metadata": {},
     "output_type": "execute_result"
    }
   ],
   "source": [
    "np.array(vgs_list_all).shape"
   ]
  },
  {
   "cell_type": "code",
   "execution_count": 111,
   "id": "ecb9eae5",
   "metadata": {
    "scrolled": true
   },
   "outputs": [
    {
     "name": "stdout",
     "output_type": "stream",
     "text": [
      "at 0 L 0.3 W 5.0 chosen\n",
      "at 2 L 1.5 W 6.0 chosen\n",
      "at 3 L 1.5 W 9.0 chosen\n",
      "at 7 L 1.2 W 4.0 chosen\n",
      "at 9 L 0.6 W 6.0 chosen\n",
      "at 10 L 0.9 W 10.0 chosen\n",
      "at 16 L 1.2 W 6.0 chosen\n",
      "at 19 L 1.5 W 7.0 chosen\n",
      "at 20 L 0.3 W 10.0 chosen\n",
      "at 22 L 0.9 W 2.0 chosen\n",
      "at 24 L 0.3 W 3.0 chosen\n",
      "at 26 L 1.5 W 5.0 chosen\n",
      "at 28 L 0.9 W 3.0 chosen\n",
      "at 29 L 0.6 W 1.0 chosen\n",
      "at 30 L 0.6 W 9.0 chosen\n",
      "at 31 L 0.6 W 3.0 chosen\n",
      "at 33 L 0.9 W 6.0 chosen\n",
      "at 34 L 1.5 W 2.0 chosen\n",
      "at 35 L 0.9 W 1.0 chosen\n",
      "at 37 L 1.2 W 9.0 chosen\n",
      "at 38 L 1.2 W 2.0 chosen\n",
      "at 40 L 0.9 W 7.0 chosen\n",
      "at 44 L 0.6 W 4.0 chosen\n",
      "at 47 L 1.2 W 10.0 chosen\n",
      "at 49 L 0.9 W 9.0 chosen\n",
      "at 51 L 0.9 W 8.0 chosen\n",
      "at 52 L 0.9 W 5.0 chosen\n",
      "at 53 L 1.5 W 8.0 chosen\n",
      "at 54 L 0.6 W 5.0 chosen\n",
      "at 55 L 1.2 W 5.0 chosen\n",
      "at 56 L 1.5 W 4.0 chosen\n",
      "at 57 L 1.5 W 3.0 chosen\n",
      "at 58 L 0.3 W 8.0 chosen\n",
      "at 60 L 0.3 W 1.0 chosen\n",
      "at 61 L 0.6 W 8.0 chosen\n",
      "at 63 L 0.3 W 2.0 chosen\n",
      "at 69 L 0.6 W 10.0 chosen\n",
      "at 73 L 1.2 W 8.0 chosen\n",
      "at 74 L 0.3 W 6.0 chosen\n",
      "at 75 L 1.2 W 3.0 chosen\n",
      "at 76 L 1.5 W 1.0 chosen\n",
      "at 78 L 0.3 W 4.0 chosen\n",
      "at 81 L 1.5 W 10.0 chosen\n",
      "at 84 L 1.2 W 7.0 chosen\n",
      "at 85 L 0.9 W 4.0 chosen\n",
      "at 89 L 0.6 W 7.0 chosen\n",
      "at 90 L 1.2 W 1.0 chosen\n",
      "at 93 L 0.3 W 9.0 chosen\n",
      "at 94 L 0.3 W 7.0 chosen\n",
      "at 96 L 0.6 W 2.0 chosen\n"
     ]
    },
    {
     "data": {
      "image/png": "[encoded data removed]",
      "text/plain": [
       "<Figure size 432x288 with 1 Axes>"
      ]
     },
     "metadata": {
      "needs_background": "light"
     },
     "output_type": "display_data"
    }
   ],
   "source": [
    "for i in range(len(lwlist)):\n",
    "    # Reduce the number of plots\n",
    "    lwt = lwlist[i]\n",
    "    if (lwt[0]%0.3<0.01):\n",
    "        print('at',i,'L',lwt[0],'W',lwt[1],'chosen')\n",
    "        # Div by 4\n",
    "        gm_list  = gm_list_all [i,:]\n",
    "        gds_list = gds_list_all[i,:]\n",
    "        vgs_list = vgs_list_all[i,:]\n",
    "        id_list  = id_list_all [i,:]\n",
    "        # plt.plot(vgs_list,np.array(gm_list)/np.array(gds_list))\n",
    "        # plt.plot(np.array(gm_list)/np.array(id_list),np.array(gm_list)/np.array(gds_list),'*')\n",
    "        plt.plot(id_list)\n",
    "# plt.plot(vgs_list,np.array(gm_list)/np.array(gds_list))\n",
    "# plt.title('Intrinsic Gain Plot of nfet, L=0.15, W=1.00, NF=1')\n",
    "# plt.xlabel('Vgs/V')\n",
    "# plt.ylabel('Intrisic Gain')"
   ]
  },
  {
   "cell_type": "code",
   "execution_count": 106,
   "id": "4e3b0aa5",
   "metadata": {},
   "outputs": [
    {
     "data": {
      "text/plain": [
       "0.0"
      ]
     },
     "execution_count": 106,
     "metadata": {},
     "output_type": "execute_result"
    }
   ],
   "source": [
    "0.3%0.3"
   ]
  },
  {
   "cell_type": "code",
   "execution_count": 54,
   "id": "15f0bbc1",
   "metadata": {
    "scrolled": true
   },
   "outputs": [
    {
     "data": {
      "image/png": "[encoded data removed]",
      "text/plain": [
       "<Figure size 432x288 with 1 Axes>"
      ]
     },
     "metadata": {
      "needs_background": "light"
     },
     "output_type": "display_data"
    }
   ],
   "source": [
    "plt.plot(np.array(gm_list)/np.array(id_list),np.array(gm_list)/np.array(gds_list),'*')\n",
    "plt.title('L=0.15, W=1.00, NF=1')\n",
    "plt.xlabel('gm/ids')\n",
    "plt.ylabel('Intrinsic Gain A0');"
   ]
  },
  {
   "cell_type": "code",
   "execution_count": 55,
   "id": "7fa51576",
   "metadata": {},
   "outputs": [
    {
     "data": {
      "text/plain": [
       "Text(0, 0.5, 'Gm/Id')"
      ]
     },
     "execution_count": 55,
     "metadata": {},
     "output_type": "execute_result"
    },
    {
     "data": {
      "image/png": "[encoded data removed]",
      "text/plain": [
       "<Figure size 432x288 with 1 Axes>"
      ]
     },
     "metadata": {
      "needs_background": "light"
     },
     "output_type": "display_data"
    }
   ],
   "source": [
    "plt.plot(vgs_list,np.array(gm_list)/np.array(id_list))\n",
    "plt.xlabel('Vgs / V')\n",
    "plt.ylabel('Gm/Ids')"
   ]
  },
  {
   "cell_type": "code",
   "execution_count": 53,
   "id": "31609069",
   "metadata": {
    "scrolled": true
   },
   "outputs": [
    {
     "data": {
      "text/plain": [
       "Text(0, 0.5, 'Caps/F')"
      ]
     },
     "execution_count": 53,
     "metadata": {},
     "output_type": "execute_result"
    },
    {
     "data": {
      "image/png": "[encoded data removed]",
      "text/plain": [
       "<Figure size 432x288 with 1 Axes>"
      ]
     },
     "metadata": {
      "needs_background": "light"
     },
     "output_type": "display_data"
    }
   ],
   "source": [
    "plt.plot(vgs_list, -np.array(cgs_list),'orange')\n",
    "plt.plot(vgs_list, -np.array(cgd_list),'cyan')# Cgd is shorted?\n",
    "plt.plot(vgs_list, -np.array(cgb_list),'magenta') \n",
    "plt.legend(['Cgs','Cgd','Cgb'])\n",
    "plt.xlabel('Vgs/V')\n",
    "plt.ylabel('Caps/F')"
   ]
  },
  {
   "cell_type": "markdown",
   "id": "c41263f2",
   "metadata": {},
   "source": [
    "$$C_{gs}\\approx4\\times10^{-16} F$$\n",
    "$$C_{gb}\\approx2.5\\times10^{-16} F$$\n",
    "\n",
    "but hey, we're doing an LNA"
   ]
  }
 ],
 "metadata": {
  "kernelspec": {
   "display_name": "Python 3 (ipykernel)",
   "language": "python",
   "name": "python3"
  },
  "language_info": {
   "codemirror_mode": {
    "name": "ipython",
    "version": 3
   },
   "file_extension": ".py",
   "mimetype": "text/x-python",
   "name": "python",
   "nbconvert_exporter": "python",
   "pygments_lexer": "ipython3",
   "version": "3.8.10"
  }
 },
 "nbformat": 4,
 "nbformat_minor": 5
}
